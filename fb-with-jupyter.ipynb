{
 "cells": [
  {
   "cell_type": "code",
   "execution_count": 1,
   "id": "e1b6c458",
   "metadata": {},
   "outputs": [],
   "source": [
    "import requests"
   ]
  },
  {
   "cell_type": "code",
   "execution_count": 2,
   "id": "90de6b99",
   "metadata": {},
   "outputs": [
    {
     "name": "stdout",
     "output_type": "stream",
     "text": [
      "200 <!doctype html><html itemscope=\"\" itemtype=\"http:/\n"
     ]
    }
   ],
   "source": [
    "response = requests.get('https://www.google.com')\n",
    "print(response.status_code, response.text[:50])"
   ]
  },
  {
   "cell_type": "markdown",
   "id": "e74e9b5b",
   "metadata": {},
   "source": [
    "여기까지가 첫 번째 단위..\n",
    "\n",
    "```python\n",
    "$ git add fb-with-jupyter.ipynb\n",
    "$ git commit\n",
    "```"
   ]
  },
  {
   "cell_type": "code",
   "execution_count": null,
   "id": "a2a819fc",
   "metadata": {},
   "outputs": [],
   "source": []
  }
 ],
 "metadata": {
  "kernelspec": {
   "display_name": "Python 3 (ipykernel)",
   "language": "python",
   "name": "python3"
  },
  "language_info": {
   "codemirror_mode": {
    "name": "ipython",
    "version": 3
   },
   "file_extension": ".py",
   "mimetype": "text/x-python",
   "name": "python",
   "nbconvert_exporter": "python",
   "pygments_lexer": "ipython3",
   "version": "3.10.9"
  }
 },
 "nbformat": 4,
 "nbformat_minor": 5
}
